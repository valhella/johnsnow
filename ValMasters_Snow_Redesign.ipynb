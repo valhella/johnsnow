{
 "cells": [
  {
   "cell_type": "markdown",
   "metadata": {},
   "source": [
    "# A Redesign Critique of John Snow's 1854 Cholera \"Ghost Map\"\n",
    "### By Val Masters\n"
   ]
  },
  {
   "cell_type": "markdown",
   "metadata": {},
   "source": [
    "![original_Snow](https://github.com/valhella/johnsnow/blob/master/images/snowmap.png?raw=true)"
   ]
  },
  {
   "cell_type": "markdown",
   "metadata": {},
   "source": [
    "Figure 1. John Snow's map of the Soho area of London during the 1854 cholera epidemic. Circles show locations of water pumps and thin stacked lines represent deaths. From Snow, J., *On the Mode of Communication of Cholera*, 1855."
   ]
  },
  {
   "cell_type": "markdown",
   "metadata": {},
   "source": [
    "## Understanding the Creator's Context ##\n",
    "Dr. John Snow (1813-1858) is famous for his data vizualiation of cholera deaths in 19th century London. Snow's motivations in creating the \"Ghost Map\", as the 1854 map shown is figure 1 is sometimes called, were in showing that cholera was transmitted via dirty water. The prevailing scientific and popular opinion at the time was that cholera was spread through the air (Koch & Denike 2006). \n",
    "His map was not entirely convincing to his professional contemporaries, as he was not able to obtain data to calulate precise mortality ratios, the accepted epidemiological metric at the time (Koch & Denike 2009; Koch & Denike 2006). \n"
   ]
  },
  {
   "cell_type": "markdown",
   "metadata": {},
   "source": [
    "## Understanding the Critic's Context\n",
    "<p> As a scientist, my urge when examining Snow's map was to delve deeply into the possibilities of the data, examine what was there, what was missing, and what was possible to achieve with the available evidence. Most exciting to me were the hidden connections between the disesase and life: how the human conditions of gender, religion, occupation, living conditions, and social status interacted with cholera transmission. Since Snow's goal was to illustrate the medium and hypercenters of cholera transmission, I will construct my redesign with the same goal in mind, but with the modern tools available to me. I will take a slightly different approach than showing just death: I will show how far people traveled (in time and distance) from infection point to death, which given cholera's short incubation period should support Snow's hypothesis that pumps were the source of the disease. The fact that people died in a certain location does not necessarily support the pump hypothesis: more important is where they contracted the disease. Rather, death location could point to treatment centers or the homes of the afflicted's loved ones.\n",
    "\n",
    "Unfortunately, I do not have data on the disease and location progression of individuals. Though I have data on how many people contracted the disease and died on specific days as well as the locations of deaths, since there is no unique identifier associated with each person I cannot know the fate of individuals nor can I correlate the date of deaths with the location of the deaths. No location data for attack is given, probably since it was not recorded. The difficulties I have with the data supports the notion that no data is raw, but rather cooked for a specific purpose: both Snow's decision in representing people impersonally and the decision of historians to run with this reflect a lack of importance accorded to the lives of the dead as individuals, who made important individual and culturally situated decisions. Most significant to Snow for the purposes of his map was where people died. However, a good deal more credit is due to him; since he worked mostly alone (and with no smartwatches) it would have been prohibitively difficult to track many individuals over time. He also collected some personal and community-specific data to aid his case of the relation between water usage and cholera, though this is not seen in the map (Koch & Denike, 2009).\n",
    "\n",
    "    \n",
    " </p>\n",
    "\n",
    "\n"
   ]
  },
  {
   "cell_type": "markdown",
   "metadata": {},
   "source": [
    "## The Iterative Design Process ###"
   ]
  },
  {
   "cell_type": "markdown",
   "metadata": {},
   "source": [
    "I did not realize that I think in terms of independent and dependent variables until I looked back at my design notes. I insisted on structuring my thoughts this way, immediately jumping to a scientific worldview. I also considered a UXD perspective, though this was prompted by my peers' discussions. As my design process progressed, I incorporated more visual ways to structure my thinking, relating the various variables more concretely. Finally, my design coalesced around the idea of a journey map."
   ]
  },
  {
   "cell_type": "code",
   "execution_count": 77,
   "metadata": {},
   "outputs": [
    {
     "data": {
      "text/html": [
       "<img src=\"https://github.com/valhella/johnsnow/blob/master/images/redesign8may.jpg?raw=true\" width=\"500\" height=\"500\"/>"
      ],
      "text/plain": [
       "<IPython.core.display.Image object>"
      ]
     },
     "execution_count": 77,
     "metadata": {},
     "output_type": "execute_result"
    }
   ],
   "source": [
    "# Import html to display image-allows resizing\n",
    "from IPython.display import Image\n",
    "from IPython.core.display import HTML \n",
    "Image(url= \"https://github.com/valhella/johnsnow/blob/master/images/redesign8may.jpg?raw=true\", width = 500, height = 500)"
   ]
  },
  {
   "cell_type": "code",
   "execution_count": 78,
   "metadata": {},
   "outputs": [
    {
     "data": {
      "text/html": [
       "<img src=\"https://github.com/valhella/johnsnow/blob/master/images/redesign13may.jpg?raw=true\" width=\"500\" height=\"500\"/>"
      ],
      "text/plain": [
       "<IPython.core.display.Image object>"
      ]
     },
     "execution_count": 78,
     "metadata": {},
     "output_type": "execute_result"
    }
   ],
   "source": [
    "from IPython.display import Image\n",
    "from IPython.core.display import HTML \n",
    "Image(url= \"https://github.com/valhella/johnsnow/blob/master/images/redesign13may.jpg?raw=true\", width = 500, height = 500)"
   ]
  },
  {
   "cell_type": "code",
   "execution_count": 79,
   "metadata": {},
   "outputs": [
    {
     "data": {
      "text/html": [
       "<img src=\"https://github.com/valhella/johnsnow/blob/master/images/redesign13may_2.jpg?raw=true\" width=\"500\" height=\"500\"/>"
      ],
      "text/plain": [
       "<IPython.core.display.Image object>"
      ]
     },
     "execution_count": 79,
     "metadata": {},
     "output_type": "execute_result"
    }
   ],
   "source": [
    "from IPython.display import Image\n",
    "from IPython.core.display import HTML \n",
    "Image(url= \"https://github.com/valhella/johnsnow/blob/master/images/redesign13may_2.jpg?raw=true\", width = 500, height = 500)"
   ]
  },
  {
   "cell_type": "code",
   "execution_count": 80,
   "metadata": {},
   "outputs": [
    {
     "data": {
      "text/html": [
       "<img src=\"https://github.com/valhella/johnsnow/blob/master/images/mapsketch.jpg?raw=true\" width=\"900\" height=\"500\"/>"
      ],
      "text/plain": [
       "<IPython.core.display.Image object>"
      ]
     },
     "execution_count": 80,
     "metadata": {},
     "output_type": "execute_result"
    }
   ],
   "source": [
    "from IPython.display import Image\n",
    "from IPython.core.display import HTML \n",
    "Image(url = \"https://github.com/valhella/johnsnow/blob/master/images/mapsketch.jpg?raw=true\", width = 900, height = 500)"
   ]
  },
  {
   "cell_type": "markdown",
   "metadata": {},
   "source": [
    "<p style=\"text-align: center;\">My overly ambitious sketch of my redesign, featuring interactivity in the form of widgets and animated, clickable lines."
   ]
  },
  {
   "cell_type": "markdown",
   "metadata": {},
   "source": [
    "## The Exploratory, Rhetorical, Empathetic Data Object ##"
   ]
  },
  {
   "cell_type": "markdown",
   "metadata": {},
   "source": [
    "Modern epidemiologists would not find Snow's map terribly useful in directing specific action or further inquiry. This is because Snow's map does not address other variables that could have been significant (which makes his argument quite clear, at the expense of being scientifically rigorous) or show essential components such as the areas serviced by particular pumps and the associated mortality ratios, which would have been possible to calculate at the time (Koch & Denike 2009).Today, the general public might find Snow's map clear and helpful, but not necessarily emotionally compelling. Modern authors such as Koch and Denike (2009) have reconstructed Snow's map with greater rigor and statistical methods, so I will take a tact that I have not seen in the literature.\n",
    "\n",
    "My visualization illustrates the concept of reconciling the needs for an epidemiologically useful graphic and a personal, emotionally compelling one. I made up the data, but this could become a real data object for modern day epidemics if a willing subset of the population transmitted gps coordinates and health data for collection.\n",
    "\n",
    "The graphic tracks named two named individuals using a birds-eye view on a 2-d map during the progression of their disease. The starting point of each progression, indicated by an opaque outline on the marker, indicates when a person first developed symptoms and is labeled with name and date. The points tracking their movements (one location point per hour) go from large radius to small radius as their health worsens. Since the points are translucent, darker clusters represent more time spent in a location. The termination of the each line is a marker outlined in black, showing death, or white, showing recovery. Each is labeled with a name and date so that users can follow up on the stories of the people.\n",
    "\n",
    "The map would provide useful information to epidemiologists, such as interaction between infected individuals, visits to pumps, and rate of health decline. From an emotional standpoint, the graphic shows a snapshot of the end of named individuals lives, which should allow viewers to better understand the human toll of the epidemic. \n"
   ]
  },
  {
   "cell_type": "code",
   "execution_count": 81,
   "metadata": {},
   "outputs": [
    {
     "name": "stdout",
     "output_type": "stream",
     "text": [
      "(24, 5)\n",
      "   personid  hour  x_latitude  y_longitude  health\n",
      "0         1     1    51.51185      -0.1369      10\n",
      "1         1     2    51.51185      -0.1369      10\n",
      "2         1     3    51.51185      -0.1369      10\n",
      "3         1     4    51.51185      -0.1369      10\n",
      "4         1     5    51.51185      -0.1369      10\n"
     ]
    }
   ],
   "source": [
    "# Here is my fake data I constructed by making up people,\n",
    "# a continuous health variable from 10, perfectly healthy, to 0, dead,\n",
    "# and a path consisting of latitude and longitude points taken every hour \n",
    "# from when a person first shows symptoms of disease.\n",
    "\n",
    "# import pandas\n",
    "import pandas as pd\n",
    "\n",
    "# read in the data\n",
    "journey1 = pd.read_csv('https://raw.githubusercontent.com/valhella/johnsnow/master/data/journey1.csv')\n",
    "journey2 = pd.read_csv('https://raw.githubusercontent.com/valhella/johnsnow/master/data/journey2.csv')\n",
    "\n",
    "# print shape of dataset\n",
    "print(journey1.shape)\n",
    "\n",
    "# Printing out the first 5 rows\n",
    "print(journey1.head(5))"
   ]
  },
  {
   "cell_type": "code",
   "execution_count": 82,
   "metadata": {},
   "outputs": [],
   "source": [
    "# create `locations` variable for each person by subsetting only Latitude and Longitude from the dataset \n",
    "locations1 = journey1[['x_latitude', 'y_longitude']]\n",
    "locations2 = journey2[['x_latitude', 'y_longitude']]\n",
    "\n",
    "# create `locations_list` variables for each person by transforming the DataFrame to list of lists \n",
    "locations_list1 = locations1[['x_latitude', 'y_longitude']].values.tolist()\n",
    "locations_list2 = locations2[['x_latitude', 'y_longitude']].values.tolist()"
   ]
  },
  {
   "cell_type": "code",
   "execution_count": 83,
   "metadata": {},
   "outputs": [],
   "source": [
    "# import numpy to read csv files easily\n",
    "import numpy as np\n",
    "\n",
    "# create variables holding the array of health values for each person\n",
    "\n",
    "# person 1\n",
    "file1 = np.genfromtxt(r'https://raw.githubusercontent.com/valhella/johnsnow/master/data/journey1.csv', delimiter=',', names=True, dtype=None)\n",
    "health1 = file1['health']\n",
    "\n",
    "# person 2\n",
    "file2 = np.genfromtxt(r'https://raw.githubusercontent.com/valhella/johnsnow/master/data/journey2.csv', delimiter=',', names=True, dtype=None)\n",
    "health2 = file2['health']"
   ]
  },
  {
   "cell_type": "code",
   "execution_count": 84,
   "metadata": {},
   "outputs": [
    {
     "data": {
      "text/html": [
       "<div style=\"width:100%;\"><div style=\"position:relative;width:100%;height:0;padding-bottom:60%;\"><iframe src=\"data:text/html;charset=utf-8;base64,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\" style=\"position:absolute;width:100%;height:100%;left:0;top:0;border:none !important;\" allowfullscreen webkitallowfullscreen mozallowfullscreen></iframe></div></div>"
      ],
      "text/plain": [
       "<folium.folium.Map at 0x1145ff748>"
      ]
     },
     "execution_count": 84,
     "metadata": {},
     "output_type": "execute_result"
    }
   ],
   "source": [
    "# import the library\n",
    "import folium\n",
    "\n",
    "# Make map centered on broad st pump\n",
    "m = folium.Map(location=[51.5132119,-0.13666], tiles='Stamen Toner', zoom_start=17)\n",
    "\n",
    "#-----\n",
    "# label start point for person 1\n",
    "folium.Circle(locations_list1[0], radius=8, color='green', fill=True, fill_color='green', opacity = 1).add_child(folium.Popup('MaryJane first symptoms')).add_to(m)        \n",
    "\n",
    "# print middle set of points for person 1\n",
    "for point in range(1, len(locations1)-1):\n",
    "    if health1[point] >= 9: \n",
    "        folium.CircleMarker(locations_list1[point], radius=16, color='green', fill=True, fill_color='green', opacity = 0.6).add_to(m)\n",
    "    elif health1[point] >= 6 and health1[point] < 9:\n",
    "         folium.CircleMarker(locations_list1[point], radius=8, color='green', fill=True, fill_color='green', opacity = 0.6).add_to(m)\n",
    "    elif health1[point] >= 3 and health1[point] < 6:\n",
    "        folium.CircleMarker(locations_list1[point], radius=4, color='green', fill=True, fill_color='green', opacity = 0.6).add_to(m)\n",
    "    else:\n",
    "        folium.CircleMarker(locations_list1[point], radius=2, color='green', fill=True, fill_color='green', opacity = 0.6).add_to(m)\n",
    "\n",
    "# label point for person 1\n",
    "last_m=((len(locations_list1))-1)\n",
    "folium.Circle(locations_list1[last_m], radius=8, color='black', fill=True, fill_color='green', opacity = 0.7).add_child(folium.Popup('MaryJane passes, August 6, 1854')).add_to(m)\n",
    "\n",
    "#------\n",
    "#label start point for person 2\n",
    "folium.Circle(locations_list2[0], radius=8, color='blue', fill=True, fill_color='blue', opacity = 1).add_child(folium.Popup('Dennison first symptoms')).add_to(m)        \n",
    "\n",
    "# print middle set of points for person 2\n",
    "for point in range(1, len(locations2)-1):\n",
    "    if health2[point] >= 9:\n",
    "        folium.CircleMarker(locations_list2[point], radius=16, color='blue', fill=True, fill_color='blue', opacity = 0.6).add_to(m)  \n",
    "    elif health2[point] >= 6 and health2[point] < 9:\n",
    "        folium.CircleMarker(locations_list2[point], radius=8, color='blue', fill=True, fill_color='blue', opacity = 0.6).add_to(m)  \n",
    "    elif health2[point] >= 3 and health2[point] < 6:\n",
    "        folium.CircleMarker(locations_list2[point], radius=4, color='blue', fill=True, fill_color='blue', opacity = 0.6).add_to(m)  \n",
    "    else:\n",
    "        folium.CircleMarker(locations_list2[point], radius=2, color='blue', fill=True, fill_color='blue', opacity = 0.6).add_to(m)  \n",
    "\n",
    "#label end point for person 2\n",
    "last_d=((len(locations_list2))-1)\n",
    "folium.Circle(locations_list2[last_d], radius=8, color='black', fill=True, fill_color='blue', opacity = 0.7).add_child(folium.Popup('Dennison passes, June, 20, 1854')).add_to(m)\n",
    "\n",
    "#-----\n",
    "\n",
    "# import pumps data\n",
    "pumps = pd.read_csv('pumps.csv')\n",
    "\n",
    "# Subset the pumps DataFrame and select just ['X coordinate', 'Y coordinate'] columns\n",
    "locations_pumps = pumps[['X coordinate', 'Y coordinate']]\n",
    "\n",
    "# Transform the pumps DataFrame to list of lists in form of ['X coordinate', 'Y coordinate'] pairs\n",
    "pumps_list = locations_pumps[['X coordinate', 'Y coordinate']].values.tolist()\n",
    "\n",
    "# Create a for loop and plot the pumps data using folium (use previous map + add another layer)\n",
    "map1 = m\n",
    "for point in range(0, len(locations_pumps)):\n",
    "    folium.Marker(pumps_list[point], popup=pumps['Pump Name'][point]).add_to(map1)\n",
    "\n",
    "# call the map\n",
    "map1\n",
    "    "
   ]
  },
  {
   "cell_type": "markdown",
   "metadata": {},
   "source": [
    "## **The JourneyMap of MaryJane and Dennison, South London, 1854**\n",
    "    \n",
    "**Legend**\n",
    "\n",
    "MaryJane = green\n",
    "\n",
    "Dennison = blue\n",
    "\n",
    "Black outline = death (clickable)\n",
    "\n",
    "White outline = recovery (clickable)\n",
    "\n",
    "Opaque outline in regular color = first symptoms (clickable)\n",
    "\n",
    "Teardrop markers = water pumps (clickable)\n",
    "\n",
    "Larger markers indicate better health, smaller markers indicate poorer health."
   ]
  },
  {
   "cell_type": "markdown",
   "metadata": {},
   "source": [
    "**Narrative**\n",
    "\n",
    "MaryJane and Dennison never met. They only lived two blocks away from one another, growing up in dirty South London. MaryJane lived on Kingly Street, and according to her friends she loved to visit Golden Square park. She worked as a launderer for the nearby orphanage. She contracted cholera on August 5th, 1854, after taking a swig of water she collected at nearby Warwick St. pump the day before. She died in her favorite park only 24 hours later. Dennison was an old man of ailing health when he contracted cholera, having lived only a block away from the Broad St. pump. He was a local tinkerer even in his old age, and he often set up his shed near the pump to attract customers. His business was ailing by the time he got sick, as people had stopped coming to the pump so often. Too late, he realized why. Dennison passed on June 20th, 1854. "
   ]
  },
  {
   "cell_type": "markdown",
   "metadata": {},
   "source": [
    "## Future Directions and Conclusion\n",
    "\n",
    "In further iterations of this design, I would like to animate the paths and allow users to add the number of people whose paths they want to see with a slider widget, in order to see aggregate trends or focus more on individual stories. They could also select a date range they want to view, which would show all the journeys that initiated and/or ended within that time period. Associated text will feature profiles (including images) on the individuals for whom a large amount of information is available and whose families consented to the project, to increase empathetic connection and understanding of the human toll of the epidemic. Of course, this speculative design could become non-speculative for modern epidemics where robust data profiles of individuals and their health and movements can be collected. In this situation, the ethics of data collection would need to be considered. This future iteration would make greater use of modern data visualization structures (animation, interactivity) that would likely draw a user in more than Snow's paper map would. People love to slide the sliders. If someone knew when an ancestor died, they could focus the date range around that date and see if they could follow their relative's last days (or close call). While my current iteration of redesign does not allow for this high level of interactivity, it showcases the scientific and emotional potential of map-based objects. \n"
   ]
  },
  {
   "cell_type": "markdown",
   "metadata": {},
   "source": [
    "## References ##"
   ]
  },
  {
   "cell_type": "markdown",
   "metadata": {},
   "source": [
    "[Koch and Denike, 2009.](https://www.ncbi.nlm.nih.gov/pubmed/19716638) \n",
    "\n",
    "[Koch and Denike, 2006.](https://www.ncbi.nlm.nih.gov/pubmed/16457925)\n",
    "\n",
    "My github repository in case any links break: https://valhella.github.io/johnsnow/\n"
   ]
  }
 ],
 "metadata": {
  "kernelspec": {
   "display_name": "Python 3",
   "language": "python",
   "name": "python3"
  },
  "language_info": {
   "codemirror_mode": {
    "name": "ipython",
    "version": 3
   },
   "file_extension": ".py",
   "mimetype": "text/x-python",
   "name": "python",
   "nbconvert_exporter": "python",
   "pygments_lexer": "ipython3",
   "version": "3.7.3"
  }
 },
 "nbformat": 4,
 "nbformat_minor": 2
}
