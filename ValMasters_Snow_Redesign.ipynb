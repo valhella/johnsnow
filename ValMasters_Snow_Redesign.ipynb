{
 "cells": [
  {
   "cell_type": "markdown",
   "metadata": {},
   "source": [
    "# A Redesign Critique of John Snow's 1854 Cholera \"Ghost Map\"\n",
    "### By Val Masters\n"
   ]
  },
  {
   "cell_type": "markdown",
   "metadata": {},
   "source": [
    "![original_Snow](https://github.com/valhella/johnsnow/blob/master/images/snowmap.png?raw=true)"
   ]
  },
  {
   "cell_type": "markdown",
   "metadata": {},
   "source": [
    "Figure 1. John Snow's map of the Soho area of London during the 1854 cholera epidemic. Circles show locations of water pumps and thin stacked lines represent deaths. From Snow, J., *On the Mode of Communication of Cholera*, 1855."
   ]
  },
  {
   "cell_type": "markdown",
   "metadata": {},
   "source": [
    "## Understanding the Creator's Context ##\n",
    "Dr. John Snow (1813-1858) is famous for his data vizualiation of cholera deaths in 19th century London. Snow's motivations in creating the \"Ghost Map\", as the 1854 map shown is figure 1 is sometimes called, were in showing that cholera was transmitted via dirty water. The prevailing scientific and popular opinion at the time was that cholera was spread through the air (Koch & Denike 2006). \n",
    "His map was not entirely convincing to his professional contemporaries, as he was not able to obtain data to calulate precise mortality ratios, the accepted epidemiological metric at the time (Koch & Denike 2009; Koch & Denike 2006). \n"
   ]
  },
  {
   "cell_type": "markdown",
   "metadata": {},
   "source": [
    "## Understanding the Critic's Context\n",
    "<p> As a scientist, my urge when examining Snow's map was to delve deeply into the possibilities of the data, examine what was there, what was missing, and what was possible to achieve with the available evidence. Most exciting to me were the hidden connections between the disesase and life: how the human conditions of gender, religion, occupation, living conditions, and social status interacted with cholera transmission. Since Snow's goal was to illustrate the medium and hypercenters of cholera transmission, I will construct my redesign with the same goal in mind, but with the modern tools available to me. I will take a slightly different approach than showing just death: I will show how far people traveled (in time and distance) from infection point to death, which given cholera's short incubation period should support Snow's hypothesis that pumps were the source of the disease. The fact that people died in a certain location does not necessarily support the pump hypothesis: more important is where they contracted the disease. Rather, death location could point to treatment centers or the homes of the afflicted's loved ones.\n",
    "\n",
    "Unfortunately, I do not have data on the disease and location progression of individuals. Though I have data on how many people contracted the disease and died on specific days as well as the locations of deaths, since there is no unique identifier associated with each person I cannot know the fate of individuals nor can I correlate the date of deaths with the location of the deaths. No location data for attack is given, probably since it was not recorded. The difficulties I have with the data supports the notion that no data is raw, but rather cooked for a specific purpose: both Snow's decision in representing people impersonally and the decision of historians to run with this reflect a lack of importance accorded to the lives of the dead as individuals, who made important individual and culturally situated decisions. Most significant to Snow for the purposes of his map was where people died. However, a good deal more credit is due to him; since he worked mostly alone (and with no smartwatches) it would have been prohibitively difficult to track many individuals over time. He also collected some personal and community-specific data to aid his case of the relation between water usage and cholera, though this is not seen in the map (Koch & Denike, 2009).\n",
    "\n",
    "    \n",
    " </p>\n",
    "\n",
    "\n"
   ]
  },
  {
   "cell_type": "markdown",
   "metadata": {},
   "source": [
    "## The Iterative Design Process ###"
   ]
  },
  {
   "cell_type": "markdown",
   "metadata": {},
   "source": [
    "I did not realize that I think in terms of independent and dependent variables until I looked back at my design notes. I insisted on structuring my thoughts this way, immediately jumping to a scientific worldview. I also considered a UXD perspective, though this was prompted by my peers' discussions. As my design process progressed, I incorporated more visual ways to structure my thinking, relating the various variables more concretely. Finally, my design coalesced around the idea of a journey map."
   ]
  },
  {
   "cell_type": "code",
   "execution_count": 55,
   "metadata": {},
   "outputs": [
    {
     "data": {
      "text/html": [
       "<img src=\"https://github.com/valhella/johnsnow/blob/master/images/redesign8may.jpg?raw=true\" width=\"500\" height=\"500\"/>"
      ],
      "text/plain": [
       "<IPython.core.display.Image object>"
      ]
     },
     "execution_count": 55,
     "metadata": {},
     "output_type": "execute_result"
    }
   ],
   "source": [
    "# Import html to display image-allows resizing\n",
    "from IPython.display import Image\n",
    "from IPython.core.display import HTML \n",
    "Image(url= \"https://github.com/valhella/johnsnow/blob/master/images/redesign8may.jpg?raw=true\", width = 500, height = 500)"
   ]
  },
  {
   "cell_type": "code",
   "execution_count": 56,
   "metadata": {},
   "outputs": [
    {
     "data": {
      "text/html": [
       "<img src=\"https://github.com/valhella/johnsnow/blob/master/images/redesign13may.jpg?raw=true\" width=\"500\" height=\"500\"/>"
      ],
      "text/plain": [
       "<IPython.core.display.Image object>"
      ]
     },
     "execution_count": 56,
     "metadata": {},
     "output_type": "execute_result"
    }
   ],
   "source": [
    "from IPython.display import Image\n",
    "from IPython.core.display import HTML \n",
    "Image(url= \"https://github.com/valhella/johnsnow/blob/master/images/redesign13may.jpg?raw=true\", width = 500, height = 500)"
   ]
  },
  {
   "cell_type": "code",
   "execution_count": 57,
   "metadata": {},
   "outputs": [
    {
     "data": {
      "text/html": [
       "<img src=\"https://github.com/valhella/johnsnow/blob/master/images/redesign13may_2.jpg?raw=true\" width=\"500\" height=\"500\"/>"
      ],
      "text/plain": [
       "<IPython.core.display.Image object>"
      ]
     },
     "execution_count": 57,
     "metadata": {},
     "output_type": "execute_result"
    }
   ],
   "source": [
    "from IPython.display import Image\n",
    "from IPython.core.display import HTML \n",
    "Image(url= \"https://github.com/valhella/johnsnow/blob/master/images/redesign13may_2.jpg?raw=true\", width = 500, height = 500)"
   ]
  },
  {
   "cell_type": "code",
   "execution_count": 58,
   "metadata": {},
   "outputs": [
    {
     "data": {
      "text/html": [
       "<img src=\"https://github.com/valhella/johnsnow/blob/master/images/mapsketch.jpg?raw=true\" width=\"900\" height=\"500\"/>"
      ],
      "text/plain": [
       "<IPython.core.display.Image object>"
      ]
     },
     "execution_count": 58,
     "metadata": {},
     "output_type": "execute_result"
    }
   ],
   "source": [
    "from IPython.display import Image\n",
    "from IPython.core.display import HTML \n",
    "Image(url = \"https://github.com/valhella/johnsnow/blob/master/images/mapsketch.jpg?raw=true\", width = 900, height = 500)"
   ]
  },
  {
   "cell_type": "markdown",
   "metadata": {},
   "source": [
    "<p style=\"text-align: center;\">My overly ambitious sketch of my redesign, featuring interactivity in the form of widgets and animated, clickable lines.<- /p>"
   ]
  },
  {
   "cell_type": "markdown",
   "metadata": {},
   "source": [
    "## The Exploratory, Rhetorical, Empathetic Data Object ###"
   ]
  },
  {
   "cell_type": "markdown",
   "metadata": {},
   "source": [
    "Modern epidemiologists would not find Snow's map terribly useful in directing specific action or further inquiry. This is because Snow's map does not address other variables that could have been significant (which makes his argument quite clear, at the expense of being scientifically rigorous) or show essential components such as the areas serviced by particular pumps and the associated mortality ratios, which would have been possible to calculate at the time (Koch & Denike 2009).Today, the general public might find Snow's map clear and helpful, but not necessarily emotionally compelling. Modern authors such as Koch and Denike (2009) have reconstructed Snow's map with greater rigor and statistical methods, so I will take a tact that I have not seen in the literature.\n",
    "\n",
    "My visualization illustrates the concept of reconciling the needs for an epidemiologically useful graphic and a personal, emotionally compelling one. I made up the data, but this could become a real data object for modern day epidemics if a willing subset of the population transmitted gps coordinates and health data for collection.\n",
    "\n",
    "The graphic tracks named two named individuals using a birds-eye view on a 2-d map during the progression of their disease. The starting point of each progression, indicated by an opaque outline on the marker, indicates when a person first developed symptoms and is labeled with name and date. The points tracking their movements (one location point per hour) go from large radius to small radius as their health worsens. Since the points are translucent, darker clusters represent more time spent in a location. The termination of the each line is a marker outlined in black, showing death, or white, showing recovery. Each is labeled with a name and date so that users can follow up on the stories of the people.\n",
    "\n",
    "The map would provide useful information to epidemiologists, such as interaction between infected individuals, visits to pumps, and rate of health decline. From an emotional standpoint, the graphic shows a snapshot of the end of named individuals lives, which should allow viewers to better understand the human toll of the epidemic. \n"
   ]
  },
  {
   "cell_type": "code",
   "execution_count": 59,
   "metadata": {},
   "outputs": [
    {
     "name": "stdout",
     "output_type": "stream",
     "text": [
      "(24, 5)\n",
      "   personid  hour  x_latitude  y_longitude  health\n",
      "0         1     1    51.51185      -0.1369      10\n",
      "1         1     2    51.51185      -0.1369      10\n",
      "2         1     3    51.51185      -0.1369      10\n",
      "3         1     4    51.51185      -0.1369      10\n",
      "4         1     5    51.51185      -0.1369      10\n"
     ]
    }
   ],
   "source": [
    "# Here is my fake data I constructed by making up people,\n",
    "# a continuous health variable from 10, perfectly healthy, to 0, dead,\n",
    "# and a path consisting of latitude and longitude points taken every hour \n",
    "# from when a person first shows symptoms of disease.\n",
    "\n",
    "# import pandas\n",
    "import pandas as pd\n",
    "\n",
    "# read in the data\n",
    "journey1 = pd.read_csv('https://raw.githubusercontent.com/valhella/johnsnow/master/data/journey1.csv')\n",
    "journey2 = pd.read_csv('https://raw.githubusercontent.com/valhella/johnsnow/master/data/journey2.csv')\n",
    "\n",
    "# print shape of dataset\n",
    "print(journey1.shape)\n",
    "\n",
    "# Printing out the first 5 rows\n",
    "print(journey1.head(5))"
   ]
  },
  {
   "cell_type": "code",
   "execution_count": 60,
   "metadata": {},
   "outputs": [],
   "source": [
    "# create `locations` variable for each person by subsetting only Latitude and Longitude from the dataset \n",
    "locations1 = journey1[['x_latitude', 'y_longitude']]\n",
    "locations2 = journey2[['x_latitude', 'y_longitude']]\n",
    "\n",
    "# create `locations_list` variables for each person by transforming the DataFrame to list of lists \n",
    "locations_list1 = locations1[['x_latitude', 'y_longitude']].values.tolist()\n",
    "locations_list2 = locations2[['x_latitude', 'y_longitude']].values.tolist()"
   ]
  },
  {
   "cell_type": "code",
   "execution_count": 61,
   "metadata": {},
   "outputs": [],
   "source": [
    "# import numpy to read csv files easily\n",
    "import numpy as np\n",
    "\n",
    "# create variables holding the array of health values for each person\n",
    "\n",
    "# person 1\n",
    "file1 = np.genfromtxt(r'https://raw.githubusercontent.com/valhella/johnsnow/master/data/journey1.csv', delimiter=',', names=True, dtype=None)\n",
    "health1 = file1['health']\n",
    "\n",
    "# person 2\n",
    "file2 = np.genfromtxt(r'https://raw.githubusercontent.com/valhella/johnsnow/master/data/journey2.csv', delimiter=',', names=True, dtype=None)\n",
    "health2 = file2['health']"
   ]
  },
  {
   "cell_type": "code",
   "execution_count": 62,
   "metadata": {},
   "outputs": [
    {
     "data": {
      "text/html": [
       "<div style=\"width:100%;\"><div style=\"position:relative;width:100%;height:0;padding-bottom:60%;\"><iframe src=\"data:text/html;charset=utf-8;base64,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\" style=\"position:absolute;width:100%;height:100%;left:0;top:0;border:none !important;\" allowfullscreen webkitallowfullscreen mozallowfullscreen></iframe></div></div>"
      ],
      "text/plain": [
       "<folium.folium.Map at 0x1149a9630>"
      ]
     },
     "execution_count": 62,
     "metadata": {},
     "output_type": "execute_result"
    }
   ],
   "source": [
    "# import the library\n",
    "import folium\n",
    "\n",
    "# Make map centered on broad st pump\n",
    "m = folium.Map(location=[51.5132119,-0.13666], tiles='Stamen Toner', zoom_start=17)\n",
    "\n",
    "#-----\n",
    "# label start point for person 1\n",
    "folium.Circle(locations_list1[0], radius=8, color='green', fill=True, fill_color='green', opacity = 1).add_child(folium.Popup('MaryJane first symptoms')).add_to(m)        \n",
    "\n",
    "# print middle set of points for person 1\n",
    "for point in range(1, len(locations1)-1):\n",
    "    if health1[point] >= 9: \n",
    "        folium.CircleMarker(locations_list1[point], radius=16, color='green', fill=True, fill_color='green', opacity = 0.6).add_to(m)\n",
    "    elif health1[point] >= 6 and health1[point] < 9:\n",
    "         folium.CircleMarker(locations_list1[point], radius=8, color='green', fill=True, fill_color='green', opacity = 0.6).add_to(m)\n",
    "    elif health1[point] >= 3 and health1[point] < 6:\n",
    "        folium.CircleMarker(locations_list1[point], radius=4, color='green', fill=True, fill_color='green', opacity = 0.6).add_to(m)\n",
    "    else:\n",
    "        folium.CircleMarker(locations_list1[point], radius=2, color='green', fill=True, fill_color='green', opacity = 0.6).add_to(m)\n",
    "\n",
    "# label point for person 1\n",
    "last_m=((len(locations_list1))-1)\n",
    "folium.Circle(locations_list1[last_m], radius=8, color='black', fill=True, fill_color='green', opacity = 0.7).add_child(folium.Popup('MaryJane passes, August 6, 1854')).add_to(m)\n",
    "\n",
    "#------\n",
    "#label start point for person 2\n",
    "folium.Circle(locations_list2[0], radius=8, color='blue', fill=True, fill_color='blue', opacity = 1).add_child(folium.Popup('Dennison first symptoms')).add_to(m)        \n",
    "\n",
    "# print middle set of points for person 2\n",
    "for point in range(1, len(locations2)-1):\n",
    "    if health2[point] >= 9:\n",
    "        folium.CircleMarker(locations_list2[point], radius=16, color='blue', fill=True, fill_color='blue', opacity = 0.6).add_to(m)  \n",
    "    elif health2[point] >= 6 and health2[point] < 9:\n",
    "        folium.CircleMarker(locations_list2[point], radius=8, color='blue', fill=True, fill_color='blue', opacity = 0.6).add_to(m)  \n",
    "    elif health2[point] >= 3 and health2[point] < 6:\n",
    "        folium.CircleMarker(locations_list2[point], radius=4, color='blue', fill=True, fill_color='blue', opacity = 0.6).add_to(m)  \n",
    "    else:\n",
    "        folium.CircleMarker(locations_list2[point], radius=2, color='blue', fill=True, fill_color='blue', opacity = 0.6).add_to(m)  \n",
    "\n",
    "#label end point for person 2\n",
    "last_d=((len(locations_list2))-1)\n",
    "folium.Circle(locations_list2[last_d], radius=8, color='black', fill=True, fill_color='blue', opacity = 0.7).add_child(folium.Popup('Dennison passes, June, 20, 1854')).add_to(m)\n",
    "\n",
    "#-----\n",
    "\n",
    "# import pumps data\n",
    "pumps = pd.read_csv('pumps.csv')\n",
    "\n",
    "# Subset the pumps DataFrame and select just ['X coordinate', 'Y coordinate'] columns\n",
    "locations_pumps = pumps[['X coordinate', 'Y coordinate']]\n",
    "\n",
    "# Transform the pumps DataFrame to list of lists in form of ['X coordinate', 'Y coordinate'] pairs\n",
    "pumps_list = locations_pumps[['X coordinate', 'Y coordinate']].values.tolist()\n",
    "\n",
    "# Create a for loop and plot the pumps data using folium (use previous map + add another layer)\n",
    "map1 = m\n",
    "for point in range(0, len(locations_pumps)):\n",
    "    folium.Marker(pumps_list[point], popup=pumps['Pump Name'][point]).add_to(map1)\n",
    "\n",
    "# call the map\n",
    "map1\n",
    "    "
   ]
  },
  {
   "cell_type": "markdown",
   "metadata": {},
   "source": [
    "MaryJane and Dennison never met. They only lived two blocks away from one another, growing up in dirty South London. MaryJane lived on Kingly Street, and according to her friends she loved to visit Golden Square park. She worked as a launderer for the nearby orphanage. She contracted cholera on August 5th, 1854, after taking a swig of water she collected at nearby Warwick St. pump the day before. She died in her favorite park only 24 hours later. Dennison was an old man of ailing health when he contracted cholera, having lived only a block away from the Broad St. pump. He was a local tinkerer even in his old age, and he often set up his shed near the pump to attract customers. His business was ailing by the time he got sick, as people had stopped coming to the pump so often. Too late, he realized why. Dennison passed on June 20th, 1854. "
   ]
  },
  {
   "cell_type": "markdown",
   "metadata": {},
   "source": [
    "## Future Directions and Conclusion\n",
    "\n",
    "In further iterations of this design, I would like to animate the paths and allow users to add the number of people whose paths they want to see with a slider widget, in order to see aggregate trends or focus more on individual stories. They could also select a date range they want to view, which would show all the journeys that initiated and/or ended within that time period. Associated text will feature profiles (including images) on the individuals for whom a large amount of information is available and whose families consented to the project, to increase empathetic connection and understanding of the human toll of the epidemic. Of course, this speculative design could become non-speculative for modern epidemics where robust data profiles of individuals and their health and movements can be collected. In this situation, the ethics of data collection would need to be considered. This future iteration would make greater use of modern data visualization structures (animation, interactivity) that would likely draw a user in more than Snow's paper map would. People love to slide the sliders. If someone knew when an ancestor died, they could focus the date range around that date and see if they could follow their relative's last days (or close call). While my current iteration of redesign does not allow for this high level of interactivity, it showcases the scientific and emotional potential of map-based objects. \n"
   ]
  },
  {
   "cell_type": "markdown",
   "metadata": {},
   "source": [
    "## References ##"
   ]
  },
  {
   "cell_type": "markdown",
   "metadata": {},
   "source": [
    "[Koch and Denike, 2009.](https://www.ncbi.nlm.nih.gov/pubmed/19716638) \n",
    "\n",
    "[Koch and Denike, 2006.](https://www.ncbi.nlm.nih.gov/pubmed/16457925)\n",
    "\n",
    "My github repository in case any links break: https://valhella.github.io/johnsnow/\n"
   ]
  }
 ],
 "metadata": {
  "kernelspec": {
   "display_name": "Python 3",
   "language": "python",
   "name": "python3"
  },
  "language_info": {
   "codemirror_mode": {
    "name": "ipython",
    "version": 3
   },
   "file_extension": ".py",
   "mimetype": "text/x-python",
   "name": "python",
   "nbconvert_exporter": "python",
   "pygments_lexer": "ipython3",
   "version": "3.7.3"
  }
 },
 "nbformat": 4,
 "nbformat_minor": 2
}
